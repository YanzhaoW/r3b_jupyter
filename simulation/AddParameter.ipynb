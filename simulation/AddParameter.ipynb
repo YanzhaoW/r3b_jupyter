{
 "cells": [
  {
   "cell_type": "code",
   "execution_count": 1,
   "id": "9562f569-3c45-475a-b542-e4d7a3892ab1",
   "metadata": {},
   "outputs": [
    {
     "name": "stdout",
     "output_type": "stream",
     "text": [
      "Welcome to JupyROOT 6.30/08\n"
     ]
    }
   ],
   "source": [
    "import ROOT"
   ]
  },
  {
   "cell_type": "code",
   "execution_count": 2,
   "id": "a9fdb8ff-2574-4956-9624-7516f0807b5c",
   "metadata": {},
   "outputs": [
    {
     "name": "stderr",
     "output_type": "stream",
     "text": [
      "[TFile::Cp] Total 0.07 MB\t|====================| 100.00 % [575.3 MB/s]\n"
     ]
    }
   ],
   "source": [
    "folder = \"/u/yanwang/test/R3BRoot/build/bin\"\n",
    "filename = \"para.root\"\n",
    "\n",
    "original_filename = f\"{folder}/{filename}\"\n",
    "sim_cal_par = f\"{folder}/simu_cal_par.root\"\n",
    "\n",
    "# Frist copy the original file. DO NOT update the orignal parameter file!\n",
    "input_par_file = ROOT.TFile(original_filename, \"read\")\n",
    "input_par_file.Cp(sim_cal_par)\n",
    "sim_cal_par_file = ROOT.TFile(sim_cal_par, \"update\")"
   ]
  },
  {
   "cell_type": "code",
   "execution_count": 3,
   "id": "facd195e-8542-49c9-8a7a-f018dcefc464",
   "metadata": {},
   "outputs": [
    {
     "name": "stdout",
     "output_type": "stream",
     "text": [
      "TFile**\t\t/u/yanwang/test/R3BRoot/build/bin/simu_cal_par.root\t\n",
      " TFile*\t\t/u/yanwang/test/R3BRoot/build/bin/simu_cal_par.root\t\n",
      "  KEY: FairBaseParSet\tFairBaseParSet;1\tclass for parameter io\n",
      "  KEY: TProcessID\tProcessID0;1\t2c782c44-6f76-11ef-bfd1-ad04140abeef\n",
      "  KEY: FairGeoParSet\tFairGeoParSet;1\tclass for Geo parameter\n",
      "  KEY: R3BGeoPassivePar\tR3BGeoPassivePar;1\tPassive Geometry Parameters\n",
      "  KEY: R3BNeulandGeoPar\tR3BNeulandGeoPar;1\tNeuland Geometry Parameters\n",
      "  KEY: FairRtdbRun\t999;1\t\n"
     ]
    }
   ],
   "source": [
    "# Check the file content\n",
    "sim_cal_par_file.ls()"
   ]
  },
  {
   "cell_type": "code",
   "execution_count": 4,
   "id": "74fc4198-02d6-4368-bd70-efa3ad8e1b86",
   "metadata": {},
   "outputs": [
    {
     "data": {
      "text/plain": [
       "244"
      ]
     },
     "execution_count": 4,
     "metadata": {},
     "output_type": "execute_result"
    }
   ],
   "source": [
    "# First get the par run from the file\n",
    "par_run = sim_cal_par_file.Get(\"999\")\n",
    "\n",
    "# Create the new parameter you want to add\n",
    "par_name = \"NeulandCal2HitPar\"\n",
    "cal_to_hit_par = ROOT.R3BNeulandHitPar(par_name)\n",
    "\n",
    "# Now change something in the new empty paramter. Please\n",
    "# refer to the class definition.\n",
    "one_module_par = ROOT.R3BNeulandHitModulePar()\n",
    "one_module_par.SetModuleId(55)\n",
    "one_module_par.SetTSync(80)\n",
    "\n",
    "cal_to_hit_par.AddModulePar(one_module_par)\n",
    "\n",
    "# Add the version of the new parameter to par run\n",
    "cal_to_hit_par_version = ROOT.FairParVersion(par_name)\n",
    "par_run.addParVersion(cal_to_hit_par_version)\n",
    "\n",
    "# write the new parameter and the updated par run in the file\n",
    "sim_cal_par_file.WriteObject(cal_to_hit_par, cal_to_hit_par.GetName(),\n",
    "                             'override')\n",
    "sim_cal_par_file.WriteObject(par_run, par_run.GetName(), 'update')"
   ]
  },
  {
   "cell_type": "code",
   "execution_count": 5,
   "id": "a173428e-6ae3-45ad-a871-45dfbe384d8b",
   "metadata": {},
   "outputs": [
    {
     "name": "stdout",
     "output_type": "stream",
     "text": [
      "TFile**\t\t/u/yanwang/test/R3BRoot/build/bin/simu_cal_par.root\t\n",
      " TFile*\t\t/u/yanwang/test/R3BRoot/build/bin/simu_cal_par.root\t\n",
      "  KEY: FairBaseParSet\tFairBaseParSet;1\tclass for parameter io\n",
      "  KEY: TProcessID\tProcessID0;1\t2c782c44-6f76-11ef-bfd1-ad04140abeef\n",
      "  KEY: FairGeoParSet\tFairGeoParSet;1\tclass for Geo parameter\n",
      "  KEY: R3BGeoPassivePar\tR3BGeoPassivePar;1\tPassive Geometry Parameters\n",
      "  KEY: R3BNeulandGeoPar\tR3BNeulandGeoPar;1\tNeuland Geometry Parameters\n",
      "  KEY: FairRtdbRun\t999;2\t [current cycle]\n",
      "  KEY: FairRtdbRun\t999;1\t [backup cycle]\n",
      "  KEY: R3BNeulandHitPar\tNeulandCal2HitPar;1\tCalibration\n"
     ]
    }
   ],
   "source": [
    "# Check the new content\n",
    "sim_cal_par_file.ls()"
   ]
  },
  {
   "cell_type": "code",
   "execution_count": 6,
   "id": "5e276d72-65ea-48ba-9d28-df75dc71cdc4",
   "metadata": {},
   "outputs": [],
   "source": [
    "# Don't forget to close the file\n",
    "input_par_file.Close()\n",
    "sim_cal_par_file.Close()"
   ]
  }
 ],
 "metadata": {
  "kernelspec": {
   "display_name": "Python 3 (ipykernel)",
   "language": "python",
   "name": "python3"
  },
  "language_info": {
   "codemirror_mode": {
    "name": "ipython",
    "version": 3
   },
   "file_extension": ".py",
   "mimetype": "text/x-python",
   "name": "python",
   "nbconvert_exporter": "python",
   "pygments_lexer": "ipython3",
   "version": "3.12.4"
  }
 },
 "nbformat": 4,
 "nbformat_minor": 5
}
