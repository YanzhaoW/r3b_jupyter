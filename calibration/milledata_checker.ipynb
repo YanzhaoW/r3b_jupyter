{
 "cells": [
  {
   "cell_type": "code",
   "execution_count": 176,
   "id": "57feaa82-276d-40fc-a9ad-af3ed68e1ba4",
   "metadata": {},
   "outputs": [
    {
     "name": "stdout",
     "output_type": "stream",
     "text": [
      "The autoreload extension is already loaded. To reload it, use:\n",
      "  %reload_ext autoreload\n"
     ]
    }
   ],
   "source": [
    "import ROOT\n",
    "import pandas as pd\n",
    "import numpy as np\n",
    "import seaborn as sns\n",
    "import re\n",
    "from utils import to_data_frame\n",
    "import matplotlib.pyplot as plt\n",
    "%load_ext autoreload\n",
    "%autoreload 2"
   ]
  },
  {
   "cell_type": "code",
   "execution_count": 91,
   "id": "b468e5c3-0345-4706-8a1b-8a1e9acc1d61",
   "metadata": {},
   "outputs": [
    {
     "name": "stdout",
     "output_type": "stream",
     "text": [
      "size of module pars: 1000\n"
     ]
    }
   ],
   "source": [
    "filename = \"/lustre/r3b/ywang/calibration/s515/run49x/millepede/cal.par.root\"\n",
    "root_file = ROOT.TFile(filename, \"read\")\n",
    "data_frame = to_data_frame(root_file)"
   ]
  },
  {
   "cell_type": "code",
   "execution_count": 113,
   "id": "2b7489b6-8171-4b03-974c-39aab2dccda4",
   "metadata": {},
   "outputs": [],
   "source": [
    "def get_run_header_num(str_line):\n",
    "    res =  re.search(r\"NR[\\s]*([0-9]*)\\s.*\", str_line)\n",
    "    if res == None:\n",
    "        return -1\n",
    "    return int(res.group(1))\n",
    "\n",
    "def check_if_global(str_line):\n",
    "    return re.search(r\"-g-\", str_line) != None\n",
    "    \n",
    "def check_if_header(str_line):\n",
    "    return re.search(r\"meas\\.\", str_line) != None\n",
    "\n",
    "def check_if_data_line(str_line):\n",
    "    return re.search(r\"(local|global)\", str_line) != None\n",
    "    \n",
    "def get_measurement(header_line):\n",
    "    res = re.search(r\"-(l|g)- meas\\.\\s*[0-9\\.]*\\s[0-9\\.]*\\s[0-9\\.]*\\s[0-9\\.]*\\s([-\\d\\.]*)\\s([-\\d\\.]*)\", header_line)\n",
    "    return res.group(1), float(res.group(2)), float(res.group(3))\n",
    "\n",
    "def get_par_values(data_line_str):\n",
    "    res = re.search(r\"(local|global)\\s*\\[([-\\d\\.]*)\\, ([-\\d\\.]*)\\]\", data_line_str)\n",
    "    return float(res.group(2)), float(res.group(3))"
   ]
  },
  {
   "cell_type": "code",
   "execution_count": 185,
   "id": "b0d595fd-db37-4631-a4ba-f5c7cb75ea05",
   "metadata": {},
   "outputs": [],
   "source": [
    "filename = \"/lustre/r3b/ywang/calibration/s515/run49x/millepede/data.txt\"\n",
    "\n",
    "\n",
    "x_bar_num = []\n",
    "x_factors = []\n",
    "x_results = []\n",
    "x_results_error = []\n",
    "x_labels = []\n",
    "\n",
    "y_bar_num = []\n",
    "y_factors = []\n",
    "y_results = []\n",
    "y_results_error = []\n",
    "y_labels = []\n",
    "\n",
    "def fill_entry(datafile):\n",
    "    header = datafile.readline()\n",
    "    bar_number = np.nan\n",
    "    if not check_if_header(header):\n",
    "        return False\n",
    "    gl_label, meas, error = get_measurement(header)\n",
    "    local_a_id, local_b_id = get_par_values(datafile.readline())\n",
    "    a_factor, _ = get_par_values(datafile.readline())\n",
    "    if(gl_label == \"g\"):\n",
    "        gct_id, gc_id = get_par_values(datafile.readline())\n",
    "        gct_factor, gc_factor = get_par_values(datafile.readline())\n",
    "        \n",
    "        gc = data_frame.loc[gct_id - 1, \"effective_speed\"]\n",
    "        gct = gc * data_frame.loc[gct_id - 1, \"t_diff\"] / 100.\n",
    "        meas = meas - gct_factor * gct -  gc * gc_factor\n",
    "        bar_number = gct_id\n",
    "\n",
    "    if local_a_id == 1 and local_b_id == 3:\n",
    "        x_factors.append(a_factor)\n",
    "        x_results.append(meas)\n",
    "        x_results_error.append(error)\n",
    "        x_bar_num.append(bar_number)\n",
    "        x_labels.append(gl_label)\n",
    "    else:\n",
    "        y_factors.append(a_factor)\n",
    "        y_results.append(meas)\n",
    "        y_results_error.append(error)\n",
    "        y_bar_num.append(bar_number)\n",
    "        y_labels.append(gl_label)\n",
    "    \n",
    "    return True\n",
    "            \n",
    "def go_to_run_number(run_number, datafile):\n",
    "    while (str_line := datafile.readline()) != None:\n",
    "        if(get_run_header_num(str_line) >= run_number):\n",
    "            return\n",
    "\n",
    "with open(filename) as datafile:\n",
    "    go_to_run_number(3, datafile)\n",
    "    while fill_entry(datafile):\n",
    "        pass\n",
    "\n",
    "dataframe_x = pd.DataFrame({\"bar_num\": x_bar_num ,\"factors\": x_factors, \"measures\": x_results, \"errors\": x_results_error, \"labels\": x_labels});\n",
    "dataframe_y = pd.DataFrame({\"bar_num\": y_bar_num ,\"factors\": y_factors, \"measures\": y_results, \"errors\": y_results_error, \"labels\": y_labels});\n"
   ]
  },
  {
   "cell_type": "code",
   "execution_count": 186,
   "id": "9ecd655c-6bdd-462f-8a2e-ee0c861324d2",
   "metadata": {},
   "outputs": [
    {
     "name": "stdout",
     "output_type": "stream",
     "text": [
      "    bar_num  factors  measures  errors labels\n",
      "0     538.0    0.525  1.046749   0.040      g\n",
      "1     539.0    0.525  1.122867   0.040      g\n",
      "2       NaN    0.575  1.075000   0.025      l\n",
      "3       NaN    0.575  1.125000   0.025      l\n",
      "4     635.0    0.625  0.938425   0.040      g\n",
      "5     636.0    0.625  1.002480   0.040      g\n",
      "6       NaN    0.675  0.875000   0.025      l\n",
      "7       NaN    0.675  0.925000   0.025      l\n",
      "8     732.0    0.725  0.770747   0.040      g\n",
      "9     733.0    0.725  0.729089   0.040      g\n",
      "10      NaN    0.775  0.675000   0.025      l\n",
      "11      NaN    0.775  0.725000   0.025      l\n",
      "12      NaN    0.775  0.775000   0.025      l\n",
      "13    829.0    0.825  0.515656   0.040      g\n",
      "14    830.0    0.825  0.560503   0.040      g\n",
      "15      NaN    0.875  0.475000   0.025      l\n",
      "16      NaN    0.875  0.525000   0.025      l\n",
      "17      NaN    0.875  0.575000   0.025      l\n",
      "18    926.0    0.925  0.427208   0.040      g\n",
      "19    927.0    0.925  0.416872   0.040      g\n",
      "20    928.0    0.925  0.443018   0.040      g\n",
      "21      NaN    0.975  0.275000   0.025      l\n",
      "22      NaN    0.975  0.325000   0.025      l\n",
      "23      NaN    0.975  0.375000   0.025      l\n",
      "    bar_num  factors  measures  errors labels\n",
      "0       NaN    0.525  0.625000   0.025      l\n",
      "1       NaN    0.525  0.675000   0.025      l\n",
      "2     597.0    0.575  0.597043   0.040      g\n",
      "3     598.0    0.575  0.627052   0.040      g\n",
      "4       NaN    0.625  0.475000   0.025      l\n",
      "5       NaN    0.625  0.525000   0.025      l\n",
      "6     693.0    0.675  0.302852   0.040      g\n",
      "7     694.0    0.675  0.360241   0.040      g\n",
      "8       NaN    0.725  0.325000   0.025      l\n",
      "9       NaN    0.725  0.375000   0.025      l\n",
      "10    789.0    0.775  0.203600   0.040      g\n",
      "11    790.0    0.775  0.252307   0.040      g\n",
      "12    791.0    0.775  0.265267   0.040      g\n",
      "13      NaN    0.825  0.175000   0.025      l\n",
      "14      NaN    0.825  0.225000   0.025      l\n",
      "15    885.0    0.875  0.049046   0.040      g\n",
      "16    886.0    0.875  0.054363   0.040      g\n",
      "17    887.0    0.875  0.172548   0.040      g\n",
      "18      NaN    0.925  0.025000   0.025      l\n",
      "19      NaN    0.925  0.075000   0.025      l\n",
      "20      NaN    0.925  0.125000   0.025      l\n",
      "21    981.0    0.975 -0.144815   0.040      g\n",
      "22    982.0    0.975 -0.091241   0.040      g\n",
      "23    983.0    0.975 -0.071237   0.040      g\n"
     ]
    }
   ],
   "source": [
    "print(dataframe_x)\n",
    "print(dataframe_y)"
   ]
  },
  {
   "cell_type": "code",
   "execution_count": 208,
   "id": "fff606f7-6725-499d-8b65-e9e42999ca5e",
   "metadata": {},
   "outputs": [],
   "source": [
    "def PlotDF(dataframe):\n",
    "    sns.scatterplot(data = dataframe, x = \"factors\", y = \"measures\", hue = \"labels\", palette = {\"l\":\"red\", \"g\":\"blue\"})\n",
    "    dataframe_l = dataframe[dataframe.labels == \"l\"]\n",
    "    dataframe_g = dataframe[dataframe.labels == \"g\"]\n",
    "    plt.errorbar(x = dataframe_l[\"factors\"], y = dataframe_l[\"measures\"], yerr = dataframe_l[\"errors\"], linestyle = \"\", capsize = 4, ecolor = \"red\")\n",
    "    plt.errorbar(x = dataframe_g[\"factors\"], y = dataframe_g[\"measures\"], yerr = dataframe_g[\"errors\"], linestyle = \"\", capsize = 4, ecolor = \"blue\")\n",
    "    plt.xlabel(\"z (m)\")\n",
    "    plt.ylabel(\"x_or_y (m)\")"
   ]
  },
  {
   "cell_type": "code",
   "execution_count": 209,
   "id": "08375188-8c73-4455-88a7-d786c0a2f642",
   "metadata": {},
   "outputs": [
    {
     "data": {
      "image/png": "[encoded data removed]",
      "text/plain": [
       "<Figure size 640x480 with 1 Axes>"
      ]
     },
     "metadata": {},
     "output_type": "display_data"
    }
   ],
   "source": [
    "PlotDF(dataframe_x)"
   ]
  },
  {
   "cell_type": "code",
   "execution_count": 210,
   "id": "2850dd0e-ebf1-48cd-bde3-45f39fe17144",
   "metadata": {},
   "outputs": [
    {
     "data": {
      "image/png": "[encoded data removed]",
      "text/plain": [
       "<Figure size 640x480 with 1 Axes>"
      ]
     },
     "metadata": {},
     "output_type": "display_data"
    }
   ],
   "source": [
    "PlotDF(dataframe_y)"
   ]
  },
  {
   "cell_type": "code",
   "execution_count": null,
   "id": "690cee3c-7893-4f28-b5f8-846b8458673a",
   "metadata": {},
   "outputs": [],
   "source": []
  }
 ],
 "metadata": {
  "kernelspec": {
   "display_name": "Python 3 (ipykernel)",
   "language": "python",
   "name": "python3"
  },
  "language_info": {
   "codemirror_mode": {
    "name": "ipython",
    "version": 3
   },
   "file_extension": ".py",
   "mimetype": "text/x-python",
   "name": "python",
   "nbconvert_exporter": "python",
   "pygments_lexer": "ipython3",
   "version": "3.12.2"
  }
 },
 "nbformat": 4,
 "nbformat_minor": 5
}
