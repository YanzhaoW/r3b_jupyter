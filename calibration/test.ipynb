{
 "cells": [
  {
   "cell_type": "code",
   "execution_count": 1,
   "id": "8037bcd1-e997-4c80-81a1-a029d19857f8",
   "metadata": {},
   "outputs": [
    {
     "name": "stdout",
     "output_type": "stream",
     "text": [
      "Welcome to JupyROOT 6.30/02\n"
     ]
    }
   ],
   "source": [
    "import ROOT\n",
    "import pandas as pd\n",
    "import numpy as np\n",
    "import seaborn as sns\n",
    "from utils import to_data_frame"
   ]
  },
  {
   "cell_type": "code",
   "execution_count": 2,
   "id": "bdd02abe-c98e-474a-adfe-1d57b500f372",
   "metadata": {},
   "outputs": [],
   "source": [
    "%jsroot off\n",
    "canvas = ROOT.TCanvas(\"canvas\", \"canvas\", 0, 0, 900, 600);"
   ]
  },
  {
   "cell_type": "code",
   "execution_count": 3,
   "id": "9a2a7723-59db-479b-ae15-f582895cd85b",
   "metadata": {},
   "outputs": [],
   "source": [
    "hist3 = ROOT.TH1D(\"hist3\", \"hist3\", 200, 0., 440.)"
   ]
  },
  {
   "cell_type": "code",
   "execution_count": 21,
   "id": "f8bdb835-7c3e-49ed-8f84-592ba8f21b14",
   "metadata": {},
   "outputs": [
    {
     "name": "stdout",
     "output_type": "stream",
     "text": [
      "start point: 299.58607093923, width: 48.648302162624105, mid point: 323.91022202054205\n"
     ]
    },
    {
     "data": {
      "image/png": "[encoded data removed]",
      "text/plain": [
       "<IPython.core.display.Image object>"
      ]
     },
     "metadata": {},
     "output_type": "display_data"
    }
   ],
   "source": [
    "hist3.Reset()\n",
    "randoms = np.random.uniform(low = 300. , high = 350., size = 200)\n",
    "for ran in randoms:\n",
    "    hist3.Fill(ran)\n",
    "hist3.Scale(1/hist3.GetEntries())\n",
    "hist4 = hist3.GetCumulative()\n",
    "\n",
    "lower_value = hist4.GetBinCenter(hist4.FindFirstBinAbove(0.005))\n",
    "higher_value = hist4.GetBinCenter(hist4.FindFirstBinAbove(0.995))\n",
    "\n",
    "res = hist4.Fit(\"pol1\", \"SQ\", \"\", lower_value, higher_value)\n",
    "\n",
    "start_point = -res.Value(0) / res.Value(1)\n",
    "width = 1/ res.Value(1)\n",
    "mid_point = (0.5 - res.Value(0)) / res.Value(1)\n",
    "\n",
    "print(f\"start point: {start_point}, width: {width}, mid point: {mid_point}\")\n",
    "    \n",
    "canvas.Clear()\n",
    "hist4.Draw()\n",
    "canvas.Draw()"
   ]
  },
  {
   "cell_type": "code",
   "execution_count": 22,
   "id": "9791fa00-df76-49f7-b11d-3afbe9d5c1e3",
   "metadata": {},
   "outputs": [
    {
     "name": "stdout",
     "output_type": "stream",
     "text": [
      "[1 2 3 4 5 6 7 8 9]\n"
     ]
    }
   ],
   "source": [
    "print(np.arange(1, 10))"
   ]
  },
  {
   "cell_type": "code",
   "execution_count": 25,
   "id": "497f3738-3c66-4611-800d-2aad93888ece",
   "metadata": {},
   "outputs": [
    {
     "name": "stdout",
     "output_type": "stream",
     "text": [
      "0.016485699999999603\n"
     ]
    }
   ],
   "source": [
    "print(8.15*0.5 - 8.457 * 0.4799)"
   ]
  },
  {
   "cell_type": "code",
   "execution_count": 24,
   "id": "21a307a6-bc40-4621-be61-885919c0d72d",
   "metadata": {},
   "outputs": [
    {
     "data": {
      "text/plain": [
       "0.9636987111268771"
      ]
     },
     "execution_count": 24,
     "metadata": {},
     "output_type": "execute_result"
    }
   ],
   "source": [
    "8.15/8.457--------------"
   ]
  },
  {
   "cell_type": "code",
   "execution_count": null,
   "id": "21272503-e415-4bbd-a96d-93fe2811fbed",
   "metadata": {},
   "outputs": [],
   "source": []
  }
 ],
 "metadata": {
  "kernelspec": {
   "display_name": "Python 3 (ipykernel)",
   "language": "python",
   "name": "python3"
  },
  "language_info": {
   "codemirror_mode": {
    "name": "ipython",
    "version": 3
   },
   "file_extension": ".py",
   "mimetype": "text/x-python",
   "name": "python",
   "nbconvert_exporter": "python",
   "pygments_lexer": "ipython3",
   "version": "3.12.2"
  }
 },
 "nbformat": 4,
 "nbformat_minor": 5
}
